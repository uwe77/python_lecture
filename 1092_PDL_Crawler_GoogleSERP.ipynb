{
 "cells": [
  {
   "cell_type": "markdown",
   "metadata": {},
   "source": [
    "## Google SERP Cralwer "
   ]
  },
  {
   "cell_type": "raw",
   "metadata": {},
   "source": [
    "https://www.google.com.tw/"
   ]
  },
  {
   "cell_type": "markdown",
   "metadata": {},
   "source": [
    "Notes: Search Engine Results Pages (SERPs) are the pages that Google and other search engines show in response to a user’s search query."
   ]
  },
  {
   "cell_type": "markdown",
   "metadata": {},
   "source": [
    "Notes: Anchor text refers to the clickable words used to link one web page to another."
   ]
  },
  {
   "cell_type": "markdown",
   "metadata": {},
   "source": [
    "### Let a user issue query terms into the Google search engine and then visit the first three SERPs to store as individual pages "
   ]
  },
  {
   "cell_type": "code",
   "execution_count": 1,
   "metadata": {},
   "outputs": [
    {
     "name": "stdout",
     "output_type": "stream",
     "text": [
      "Please input your query terms: 肺炎 coronavirus\n",
      "The URL of Page 1: https://www.google.com.tw/search?q=%E8%82%BA%E7%82%8E+coronavirus&start=0\n",
      "The URL of Page 2: https://www.google.com.tw/search?q=%E8%82%BA%E7%82%8E+coronavirus&start=10\n",
      "The URL of Page 3: https://www.google.com.tw/search?q=%E8%82%BA%E7%82%8E+coronavirus&start=20\n"
     ]
    }
   ],
   "source": [
    "# by lhlee\n",
    "# Query terms：肺炎 coronavirus\n",
    "# page 1 --> https://www.google.com.tw/search?q=%E8%82%BA%E7%82%8E+coronavirus\n",
    "# page 1 --> https://www.google.com.tw/search?q=%E8%82%BA%E7%82%8E+coronavirus&start=0\n",
    "# page 2 --> https://www.google.com.tw/search?q=%E8%82%BA%E7%82%8E+coronavirus&start=10 \n",
    "# page 3 --> https://www.google.com.tw/search?q=%E8%82%BA%E7%82%8E+coronavirus&start=20\n",
    "import requests, time\n",
    "from urllib.parse import quote\n",
    "\n",
    "query = input(\"Please input your query terms: \")\n",
    "term = [quote(q) for q in query.split(\" \")]\n",
    "for page in range(3):\n",
    "    url = \"https://www.google.com.tw/search?q=\" + \"+\".join(term) + \"&start=\" + str(page*10) \n",
    "    print(\"The URL of Page \" + str(page+1) + \": \" + url)\n",
    "    res = requests.get(url)\n",
    "    with open(\"tmp\"+ str(page+1) +\".html\", \"wt\") as tmp:\n",
    "        tmp.write(res.text)\n",
    "    time.sleep(15)  "
   ]
  },
  {
   "cell_type": "markdown",
   "metadata": {},
   "source": [
    "### Parsing your stored SERPs to obtain all links of anchor texts in the search results. "
   ]
  },
  {
   "cell_type": "code",
   "execution_count": 2,
   "metadata": {},
   "outputs": [
    {
     "name": "stdout",
     "output_type": "stream",
     "text": [
      "https://dph.tycg.gov.tw/home.jsp%3Fid%3D542%26parentpath%3D0,6\n",
      "https://dph.tycg.gov.tw/home.jsp%3Fid%3D560%26parentpath%3D0,6,542\n",
      "https://www.cdc.gov.tw/Category/Page/vleOMKqwuEbIMgqaTeXG8A\n",
      "https://covid-19.nchc.org.tw/\n",
      "https://covid-19.nchc.org.tw/map.php\n",
      "https://covid19.mohw.gov.tw/\n",
      "https://covid19.mohw.gov.tw/ch/np-4837-205.html\n",
      "https://www.pch.org.tw/custom_85254.html\n",
      "https://zh.wikipedia.org/zh-tw/2019%25E5%2586%25A0%25E7%258A%25B6%25E7%2597%2585%25E6%25AF%2592%25E7%2597%2585\n",
      "https://zh.wikipedia.org/wiki/%25E7%2599%25BC%25E7%2587%2592\n",
      "http://www2.kmuh.org.tw/web/kmuhdept/pneumonia/\n",
      "https://www.bbc.com/zhongwen/trad/world-51471935\n",
      "https://d007.wzu.edu.tw/category/150004\n",
      "https://www.chla.org/blog/health-and-safety-tips/novel-coronavirus-what-you-should-know-traditional-chinese\n",
      "https://www.youtube.com/watch%3Fv%3D5j7DgvUoSYI\n",
      "https://www.youtube.com/watch%3Fv%3D5j7DgvUoSYI\n",
      "https://heho.com.tw/2019-ncov\n",
      "https://chinese.cdc.gov/coronavirus/2019-ncov/index.html\n",
      "https://helloyishi.com.tw/infectious-diseases/coronavirus/what-is-coronavirus-and-covid-19/\n",
      "https://www.caregiver.org/zh/resource/%25E8%25AD%25B7%25E7%2590%2586%25E5%2592%258C%25E5%2586%25A0%25E7%258B%2580%25E7%2597%2585%25E6%25AF%2592-%25E7%25B5%25A6%25E7%259C%258B%25E8%25AD%25B7%25E8%2580%2585%25E7%259A%2584%25E5%25B0%258F%25E6%258C%2587%25E7%25A4%25BA-caregiving-and-coronavirus-tips-caregivers/\n",
      "https://trh.gase.most.ntnu.edu.tw/tw/article/content/109\n",
      "https://www.moea.gov.tw/MNS/covid-19/home/Home.aspx\n",
      "https://www.jah.org.tw/form/index-1.asp%3Fm%3D3%26m1%3D8%26m2%3D362%26gp%3D361%26id%3D1507\n",
      "https://campaign.commonhealth.com.tw/main/china-disease-347\n",
      "https://www.boca.gov.tw/cp-56-5261-cefd5-1.html\n",
      "https://www.twreporter.org/i/covid-2019-keep-tracking-gcs\n",
      "https://www.ocac.gov.tw/ocac/subsites2/home.aspx%3Fsite%3Daf324ca7-bd1a-4f98-b704-6eec80ba4054\n",
      "https://www.tableau.com/zh-tw/covid-19-coronavirus-data-resources/global-tracker\n",
      "https://terms.naer.edu.tw/detail/3175292/\n",
      "https://wd.vghtpe.gov.tw/inf/News!link.action%3Fnid%3D7538\n",
      "https://www.tma.tw/ltk/109631004.pdf\n",
      "https://www.nyp.org/sites/default/files/acquiadam/2020-08/COVID19-WhatToKnow-Chinese.pdf\n",
      "https://cpd.moe.gov.tw/index.php%3Fguid%3DBD28807E-9D44-A1D4-D795-3408DA587793\n",
      "https://ntuml.mc.ntu.edu.tw/Fpage.action%3Fmuid%3D460%26fid%3D418\n",
      "https://www.roc-taiwan.org/usnyc/cat/46.html\n"
     ]
    }
   ],
   "source": [
    "#by lhlee\n",
    "from bs4 import BeautifulSoup\n",
    "\n",
    "for page in range(3):\n",
    "    with open(\"tmp\"+ str(page+1) +\".html\", \"rt\") as tmp:\n",
    "        soup = BeautifulSoup(tmp, 'html.parser')\n",
    "        for res in soup.find_all(\"div\", {\"class\": \"kCrYT\"}):\n",
    "            if res.find_all('a', {\"href\": True}):\n",
    "                url = res.a['href']\n",
    "                print (url[7: url.find('&sa')])"
   ]
  },
  {
   "cell_type": "code",
   "execution_count": null,
   "metadata": {},
   "outputs": [],
   "source": []
  }
 ],
 "metadata": {
  "kernelspec": {
   "display_name": "Python 3",
   "language": "python",
   "name": "python3"
  },
  "language_info": {
   "codemirror_mode": {
    "name": "ipython",
    "version": 3
   },
   "file_extension": ".py",
   "mimetype": "text/x-python",
   "name": "python",
   "nbconvert_exporter": "python",
   "pygments_lexer": "ipython3",
   "version": "3.7.6"
  }
 },
 "nbformat": 4,
 "nbformat_minor": 4
}
